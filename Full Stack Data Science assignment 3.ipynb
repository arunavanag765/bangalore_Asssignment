{
 "cells": [
  {
   "cell_type": "markdown",
   "metadata": {},
   "source": [
    "1. What are the benefits of including roles in the programmes?"
   ]
  },
  {
   "cell_type": "markdown",
   "metadata": {},
   "source": [
    "#A program is amalgamation of different codes set to perform specific tasks. each of these different code blocks can be repeated called and referenced on multiple occasions\n",
    "#roles induce modularity so that in case there is any mistake in logic OR in case we want to change a particular aspect of how we process the data(suppose we might want to use median of all entries instead of arithmetic mean), then only that particular module needs to be modified instead of fiddling about the entire program"
   ]
  },
  {
   "cell_type": "markdown",
   "metadata": {},
   "source": [
    "2. When does the code in a function run: when it's specified or when it's called?"
   ]
  },
  {
   "cell_type": "markdown",
   "metadata": {},
   "source": [
    "when its called. a user defined func like print(\"test message \") will not run unless the function is called."
   ]
  },
  {
   "cell_type": "markdown",
   "metadata": {},
   "source": [
    "3. What statement causes a feature to be created?"
   ]
  },
  {
   "cell_type": "markdown",
   "metadata": {},
   "source": [
    "### in classes not introduced to anything called feature !!!!!!!!!!!!!!!!!!!!"
   ]
  },
  {
   "cell_type": "markdown",
   "metadata": {},
   "source": [
    "4. What is the distinction between a function and a call to a function?"
   ]
  },
  {
   "cell_type": "markdown",
   "metadata": {},
   "source": [
    "a function is only the definition part.  \n",
    "execution happens when WE CALL TO A FUCNTION and may choose to pass arguments and default arguments ALONGWITH positional and keyword arguments"
   ]
  },
  {
   "cell_type": "markdown",
   "metadata": {},
   "source": [
    "5. In a Python application, how many global scopes are there? How many local scopes are there?"
   ]
  },
  {
   "cell_type": "markdown",
   "metadata": {},
   "source": [
    "there are 4 scopes: \n",
    "there is only 1 global scope.Global scope allows access of an object variable from anywhere in the code. \n",
    "HOwevert in case it is referenced in a function block where another variable with the exact same name is being created in local scope , then the value in local scope will prevail. \n",
    "any expression on such a variable before defining code will evoke an error\n",
    "\n",
    "local scope:: the life of such variable is ONLY within the block wehre it was defined. so there can be unlimited local scopes.\n",
    "\n",
    "enclosing scope is where a primarily local scope variable acts a psuedo global variable. Say nested function. A variable in the outer function blcok can be reference in the inner fucntion block since from the inner fucntion block's perspective  , the variable is global. this variable is neither global nor local. it is called NON LOCAL or ENCLOSING SCOPE.\n",
    "\n",
    "built in scope : suppose we want to change value of Global varible inside a fucntion where we have referenced it without definition. then we will have to prefix global<space>varible_name. Similarly for enclosing scopes, we need to prefix nonlocal<space>variable_name. once declared like this, they can be used because the interpreter will nderstand which variable is being referred to here."
   ]
  },
  {
   "cell_type": "markdown",
   "metadata": {},
   "source": [
    "6. When a function call returns, what happens to variables in the local scope?"
   ]
  },
  {
   "cell_type": "markdown",
   "metadata": {},
   "source": [
    "they logically get deleted but actually they remain in memory as garbage values. \n",
    "garbage since essentially local scope variable have been UNBOUND, (concept of findling objects to memory locations which in turn holds the values)"
   ]
  },
  {
   "cell_type": "markdown",
   "metadata": {},
   "source": [
    "7. What is the concept of a return value? Is it possible to have a return value in an expression?"
   ]
  },
  {
   "cell_type": "markdown",
   "metadata": {},
   "source": [
    "each func block always have a return ; either custom defined or none. in case custom made then we can any number of expressions or output but in a single return statement. these returns can be passed back to main body from whence func was called via one variable where it is contained as a tuple OR via multiple variable assignment (alongwith the concept of dont care placeholders _). Flow control exits function once return statement is encountered. Python is mostly a high level interpreter language\n",
    "\n",
    "Yes it is possible to have an expression in return value. \n",
    "\n",
    "def lit(b,a=7,*goat,**boat): example of passing non-default argument --> default argument --> postional arg --> keyword arg"
   ]
  },
  {
   "cell_type": "markdown",
   "metadata": {},
   "source": [
    "8. What is the return value of a call to a function that does not have a return statement?"
   ]
  },
  {
   "cell_type": "code",
   "execution_count": null,
   "metadata": {},
   "outputs": [],
   "source": [
    "#return = none  and type(return) is nonetype"
   ]
  },
  {
   "cell_type": "markdown",
   "metadata": {},
   "source": [
    "9. How do you make a function variable refer to the global variable?"
   ]
  },
  {
   "cell_type": "markdown",
   "metadata": {},
   "source": [
    "function variable vibby can be assigned value of global variable pix by below notation\n",
    "\n",
    "global pix\n",
    "vibby = pix"
   ]
  },
  {
   "cell_type": "markdown",
   "metadata": {},
   "source": [
    "10. What data form does None belong to?"
   ]
  },
  {
   "cell_type": "code",
   "execution_count": null,
   "metadata": {},
   "outputs": [],
   "source": [
    "# class of None is NONETYPE ;; no return or Return None is essentially same; output is also same"
   ]
  },
  {
   "cell_type": "markdown",
   "metadata": {},
   "source": [
    "11. What does the sentence import areallyourpetsnamederic do?"
   ]
  },
  {
   "cell_type": "code",
   "execution_count": null,
   "metadata": {},
   "outputs": [],
   "source": [
    "# probabaly imports a module going by the above name , in case it exists"
   ]
  },
  {
   "cell_type": "markdown",
   "metadata": {},
   "source": [
    "12. If you had a bacon() feature in a spam module, what would you call it after importing spam?"
   ]
  },
  {
   "cell_type": "code",
   "execution_count": null,
   "metadata": {},
   "outputs": [],
   "source": [
    "sapm.bacon()"
   ]
  },
  {
   "cell_type": "markdown",
   "metadata": {},
   "source": [
    "13. What can you do to save a programme from crashing if it encounters an error?"
   ]
  },
  {
   "cell_type": "code",
   "execution_count": null,
   "metadata": {},
   "outputs": [],
   "source": [
    "we can use try and exception pair; we can define exception in such a manner that code does not stop even in case of an error\n",
    "say we write continue in exceptin block"
   ]
  },
  {
   "cell_type": "markdown",
   "metadata": {},
   "source": [
    "14. What is the purpose of the try clause? What is the purpose of the except clause?"
   ]
  },
  {
   "cell_type": "code",
   "execution_count": null,
   "metadata": {},
   "outputs": [],
   "source": [
    "we can use try and exception pair; we can define exception in such a manner that code does not stop even in case of an error\n",
    "say we write continue in exceptin block; almost same QS as above"
   ]
  },
  {
   "cell_type": "code",
   "execution_count": null,
   "metadata": {},
   "outputs": [],
   "source": [
    "# ------------thanks ----Arunava"
   ]
  },
  {
   "cell_type": "code",
   "execution_count": null,
   "metadata": {},
   "outputs": [],
   "source": []
  },
  {
   "cell_type": "code",
   "execution_count": null,
   "metadata": {},
   "outputs": [],
   "source": []
  },
  {
   "cell_type": "code",
   "execution_count": 33,
   "metadata": {},
   "outputs": [
    {
     "name": "stdout",
     "output_type": "stream",
     "text": [
      "hi\n",
      "\n",
      "inside the function GLobal  krishna\n",
      "[('5io', 'pol'), ['aur', 66, False], 34] \t\t\t{'bol:3', 'aster:a', 'c:pink'}\n",
      "\n",
      "\n",
      " <class 'tuple'> \t\t (13, [('5io', 'pol'), ['aur', 66, False], 34], {'bol:3', 'aster:a', 'c:pink'})\n",
      "\n",
      "inside the function GLobal  krishna\n",
      "[('5io', 'pol'), ['aur', 66, False], 34] \t\t\t{'bol:3', 'aster:a', 'c:pink'}\n",
      "\n",
      "\n",
      " contents of nonplaceholder {'bol:3', 'aster:a', 'c:pink'}\n",
      "lateest value of Garbage placeholder_ is  [('5io', 'pol'), ['aur', 66, False], 34]\n"
     ]
    }
   ],
   "source": [
    "#practice sudhansu function define \n",
    "\n",
    "def lit(b,a=7,*goat,**boat):  #beware of non-default argument follows default argument\n",
    "    \n",
    "    global pix\n",
    "    print('\\ninside the function GLobal ',pix)\n",
    "    emp1=[]\n",
    "    emp1 = [iter for iter in goat]\n",
    "    print(emp1,\"\\t\\t\\t\",end=\"\")\n",
    "    emp2 = {(keynum+':'+str(boat[keynum])) for keynum in boat}\n",
    "    print(emp2)\n",
    "    return (3*b+a),emp1,emp2\n",
    "\n",
    "\n",
    "pix= 'krishna'\n",
    "print('hi')\n",
    "\n",
    "hue  = lit(3,4,('5io','pol'),['aur',66,False],34,aster='a',bol=3,c='pink')\n",
    "print('\\n\\n',type(hue),'\\t\\t',hue)  ## output as an OVERALL tuple\n",
    "\n",
    "_,_,notplaceholder  = lit(3,4,('5io','pol'),['aur',66,False],34,aster='a',bol=3,c='pink') ## output as individual variables\n",
    "print('\\n\\n contents of nonplaceholder', notplaceholder)\n",
    "print('lateest value of Garbage placeholder_ is ',_)"
   ]
  }
 ],
 "metadata": {
  "kernelspec": {
   "display_name": "Python 3",
   "language": "python",
   "name": "python3"
  },
  "language_info": {
   "codemirror_mode": {
    "name": "ipython",
    "version": 3
   },
   "file_extension": ".py",
   "mimetype": "text/x-python",
   "name": "python",
   "nbconvert_exporter": "python",
   "pygments_lexer": "ipython3",
   "version": "3.8.3"
  }
 },
 "nbformat": 4,
 "nbformat_minor": 4
}
