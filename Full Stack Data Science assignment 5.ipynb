{
 "cells": [
  {
   "cell_type": "markdown",
   "metadata": {},
   "source": [
    "1. What does an empty dictionary's code look like?"
   ]
  },
  {
   "cell_type": "code",
   "execution_count": 84,
   "metadata": {},
   "outputs": [
    {
     "data": {
      "text/plain": [
       "tuple"
      ]
     },
     "execution_count": 84,
     "metadata": {},
     "output_type": "execute_result"
    }
   ],
   "source": [
    "logo ={}\n",
    "#type(logo)\n",
    "type((('a',2),('r',23)))"
   ]
  },
  {
   "cell_type": "markdown",
   "metadata": {},
   "source": [
    "2. What is the value of a dictionary value with the key 'foo' and the value 42?"
   ]
  },
  {
   "cell_type": "code",
   "execution_count": 85,
   "metadata": {},
   "outputs": [
    {
     "name": "stdout",
     "output_type": "stream",
     "text": [
      "dict_values([42, 90, 'foxy'])\n"
     ]
    }
   ],
   "source": [
    "logo ={(('a',2),('r',23)):42,'boo':90,'loop':'foxy'}   ## cannot be normal foo and boo and l since it will be expecting a prior definition\n",
    "print(logo.values())   #prints list of values containtained"
   ]
  },
  {
   "cell_type": "markdown",
   "metadata": {},
   "source": [
    "3. What is the most significant distinction between a dictionary and a list?"
   ]
  },
  {
   "cell_type": "markdown",
   "metadata": {},
   "source": [
    "key value pair conept in dictionary, furthermore key can be repeated in dict but only the latest VALUE assigned will be considered; dictionary may be unordered; list will alwyas be ordered\n",
    "keys themselves cannot be a set or a dict since set and dict are unhashable and MAYBE non-uqiue during definition\n",
    "Values can be AANYTHING"
   ]
  },
  {
   "cell_type": "markdown",
   "metadata": {},
   "source": [
    "4. What happens if spam['foo'] is 'bar': 100 and you try to access it?"
   ]
  },
  {
   "cell_type": "code",
   "execution_count": 91,
   "metadata": {},
   "outputs": [
    {
     "name": "stdout",
     "output_type": "stream",
     "text": [
      "{'foo': {'bar': 100}}\n",
      "{'bar': 100}\n"
     ]
    }
   ],
   "source": [
    "spam={'foo':{'bar':100}}\n",
    "print(spam)\n",
    "print(spam['foo'])\n",
    "\n",
    "#\n",
    "#else in case spam = {'bar':100} and then print(spam['foo'])  \n",
    "#answer :: KEY ERROR\n",
    "#"
   ]
  },
  {
   "cell_type": "markdown",
   "metadata": {},
   "source": [
    "5. What is the difference between the terms 'cat' in spam and 'cat' in spam if a dictionary is contained in spam?"
   ]
  },
  {
   "cell_type": "code",
   "execution_count": null,
   "metadata": {},
   "outputs": [],
   "source": [
    "## cannot understand question !!"
   ]
  },
  {
   "cell_type": "markdown",
   "metadata": {},
   "source": [
    "What is the function keys()?"
   ]
  },
  {
   "cell_type": "markdown",
   "metadata": {},
   "source": [
    "it gives a list of all the DISTINCT keys of a dictionary."
   ]
  },
  {
   "cell_type": "markdown",
   "metadata": {},
   "source": [
    "6. What is the difference between the terms 'cat' in spam and 'cat' in spam.values() when a dictionary is contained in spam?"
   ]
  },
  {
   "cell_type": "markdown",
   "metadata": {},
   "source": [
    "cat in spam:: cat is searched in a LIST containing all the KEYS of spam\n",
    "cat in spam.values() :: cat is searched in a LIST containing all the VALUES of spam"
   ]
  },
  {
   "cell_type": "markdown",
   "metadata": {},
   "source": [
    "7. What is the quickest way to type the following code?\n",
    "if the word 'colour' isn't in spam:\n",
    "\n",
    "'black' for spam['color']"
   ]
  },
  {
   "cell_type": "code",
   "execution_count": 96,
   "metadata": {},
   "outputs": [
    {
     "data": {
      "text/plain": [
       "dict_items([('foo', {'bar': 100}), ('color', 'black')])"
      ]
     },
     "execution_count": 96,
     "metadata": {},
     "output_type": "execute_result"
    }
   ],
   "source": [
    "spam={'foo':{'bar':100}}\n",
    "spam['color'] = 'black'  ## since color is not there in spam.keys() so it will be created and the associated value = 'black'\n",
    "spam.items()"
   ]
  },
  {
   "cell_type": "markdown",
   "metadata": {},
   "source": [
    "8. How do you \"pretty print\" dictionary values using which module and function?"
   ]
  },
  {
   "cell_type": "markdown",
   "metadata": {},
   "source": [
    "import pprint\n",
    "pprint.pprint(output_counter)"
   ]
  }
 ],
 "metadata": {
  "kernelspec": {
   "display_name": "Python 3",
   "language": "python",
   "name": "python3"
  },
  "language_info": {
   "codemirror_mode": {
    "name": "ipython",
    "version": 3
   },
   "file_extension": ".py",
   "mimetype": "text/x-python",
   "name": "python",
   "nbconvert_exporter": "python",
   "pygments_lexer": "ipython3",
   "version": "3.8.3"
  }
 },
 "nbformat": 4,
 "nbformat_minor": 4
}
