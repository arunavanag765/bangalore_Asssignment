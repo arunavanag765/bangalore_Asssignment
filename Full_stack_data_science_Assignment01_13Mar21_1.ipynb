{
 "cells": [
  {
   "cell_type": "markdown",
   "metadata": {},
   "source": [
    "# Full_stack_data_science_Assignment01_13Mar21_1"
   ]
  },
  {
   "cell_type": "markdown",
   "metadata": {},
   "source": [
    "## 1. What are the differences between operators and values in the following?\n",
    "*\n",
    "'hello'\n",
    "-87.8\n",
    "-\n",
    "/\n",
    "+\n",
    "6"
   ]
  },
  {
   "cell_type": "code",
   "execution_count": 9,
   "metadata": {},
   "outputs": [
    {
     "data": {
      "text/plain": [
       "\" values are absolute determinate metrics(numbers,str,etc) which may be assigned to a variable(or any object of a class) or used in a direct manner\\nEx:  'hello' -87.8 and 6\\n\\noperators help us in executing a definite task on a value which may be direct or indirectly stored in a variable(or object of a class) \\nthe bodmas operators\\n\""
      ]
     },
     "execution_count": 9,
     "metadata": {},
     "output_type": "execute_result"
    }
   ],
   "source": [
    "''' values are absolute determinate metrics(numbers,str,etc) which may be assigned to a variable(or any object of a class) or used in a direct manner\n",
    "Ex:  'hello' -87.8 and 6\n",
    "\n",
    "operators help us in executing a definite task on a value which may be direct or indirectly stored in a variable(or object of a class) \n",
    "the bodmas operators\n",
    "'''"
   ]
  },
  {
   "cell_type": "markdown",
   "metadata": {},
   "source": [
    "## 2. What is the difference between string and variable?\n",
    "spam\n",
    "'spam'"
   ]
  },
  {
   "cell_type": "code",
   "execution_count": 10,
   "metadata": {},
   "outputs": [
    {
     "data": {
      "text/plain": [
       "\"spam without qoutes is a variable subject to assignment; 'spam' is the str variable\""
      ]
     },
     "execution_count": 10,
     "metadata": {},
     "output_type": "execute_result"
    }
   ],
   "source": [
    "'''spam without qoutes is a variable subject to assignment; 'spam' is the str variable'''"
   ]
  },
  {
   "cell_type": "markdown",
   "metadata": {},
   "source": [
    "## 3. Describe three different data forms."
   ]
  },
  {
   "cell_type": "code",
   "execution_count": 11,
   "metadata": {},
   "outputs": [
    {
     "data": {
      "text/plain": [
       "\"int float complex :: basically numbers with no decimal, with decimal, with imaginary part as well\\nthen strings    anything within '' ; in case within  then escape characters like \\t \\n are neglected for execution and printed as it is\\n then bool   simple True(1) False(0)\\n\""
      ]
     },
     "execution_count": 11,
     "metadata": {},
     "output_type": "execute_result"
    }
   ],
   "source": [
    "'''int float complex :: basically numbers with no decimal, with decimal, with imaginary part as well\n",
    "then strings    anything within '' ; in case within ''' ''' then escape characters like \\t \\n are neglected for execution and printed as it is\n",
    " then bool   simple True(1) False(0)\n",
    "'''"
   ]
  },
  {
   "cell_type": "markdown",
   "metadata": {},
   "source": [
    "## 4. What makes up an expression? What are the functions of all expressions?"
   ]
  },
  {
   "cell_type": "code",
   "execution_count": 12,
   "metadata": {},
   "outputs": [
    {
     "data": {
      "text/plain": [
       "\"expresssion is a set of statements which works towards achieving a return and utilising that return as per programmers's need\\n# it may use logical,comparison or arithmetic or bitwise operators or functions\\n\""
      ]
     },
     "execution_count": 12,
     "metadata": {},
     "output_type": "execute_result"
    }
   ],
   "source": [
    "'''expresssion is a set of statements which works towards achieving a return and utilising that return as per programmers's need\n",
    "# it may use logical,comparison or arithmetic or bitwise operators or functions\n",
    "'''"
   ]
  },
  {
   "cell_type": "markdown",
   "metadata": {},
   "source": [
    "## 5. In this chapter, assignment statements such as spam = 10 were added. What's the difference between a declaration and an expression?"
   ]
  },
  {
   "cell_type": "code",
   "execution_count": 13,
   "metadata": {},
   "outputs": [
    {
     "data": {
      "text/plain": [
       "'declaration is more of a definition or assignment. On the other hand \\nan expression works towards calculating a desired end resultant based on code\\n'"
      ]
     },
     "execution_count": 13,
     "metadata": {},
     "output_type": "execute_result"
    }
   ],
   "source": [
    "'''declaration is more of a definition or assignment. On the other hand \n",
    "an expression works towards calculating a desired end resultant based on code\n",
    "'''"
   ]
  },
  {
   "cell_type": "markdown",
   "metadata": {},
   "source": [
    "## 6. After running the following code, what does the variable bacon contain?\n",
    "bacon = 22\n",
    "bacon + 1"
   ]
  },
  {
   "cell_type": "code",
   "execution_count": 19,
   "metadata": {},
   "outputs": [
    {
     "data": {
      "text/plain": [
       "' here intelligent python assigns bacon as auto dtype INT. SO bacon + 1 will be 23 . if it were str then o/p would have been 221 considering 1 is also typecasted else we cannot add STR and INT FLOAT variables'"
      ]
     },
     "execution_count": 19,
     "metadata": {},
     "output_type": "execute_result"
    }
   ],
   "source": [
    "''' here intelligent python assigns bacon as auto dtype INT. SO bacon + 1 will be 23 . if it were str then o/p would have been 221 considering 1 is also typecasted else we cannot add STR and INT FLOAT variables'''"
   ]
  },
  {
   "cell_type": "markdown",
   "metadata": {},
   "source": [
    "## 7. What should the values of the following two terms be?\n",
    "\n",
    "'spam' + 'spamspam'\n",
    "'spam' * 3\n"
   ]
  },
  {
   "cell_type": "code",
   "execution_count": 20,
   "metadata": {},
   "outputs": [
    {
     "data": {
      "text/plain": [
       "'same output. first one is str concatenation and the second one is string replication. replication also works in a simialr manner for lists[]'"
      ]
     },
     "execution_count": 20,
     "metadata": {},
     "output_type": "execute_result"
    }
   ],
   "source": [
    "'''same output. first one is str concatenation and the second one is string replication. replication also works in a simialr manner for lists[]'''"
   ]
  },
  {
   "cell_type": "markdown",
   "metadata": {},
   "source": [
    "## 8. Why is it that eggs is a true variable name but 100 is not?"
   ]
  },
  {
   "cell_type": "code",
   "execution_count": 22,
   "metadata": {
    "scrolled": true
   },
   "outputs": [
    {
     "data": {
      "text/plain": [
       "'variable name in python kernel cannot start with any numeric ; like evne 1rotiprice = 5 is not allowed'"
      ]
     },
     "execution_count": 22,
     "metadata": {},
     "output_type": "execute_result"
    }
   ],
   "source": [
    "'''variable name in python kernel cannot start with any numeric ; like evne 1rotiprice = 5 is not allowed'''"
   ]
  },
  {
   "cell_type": "markdown",
   "metadata": {},
   "source": [
    "## 9. Which of the following three functions may be used to convert a value to an integer, a floating-point number, or a string?"
   ]
  },
  {
   "cell_type": "code",
   "execution_count": 24,
   "metadata": {},
   "outputs": [
    {
     "data": {
      "text/plain": [
       "'there are no functions given here to choose from. Seems QS is incomplete.\\n\\nMy best effort answer :: Alphanumeric are toughest to crack since we cannot typecast them to int or float. Only numbers can be interchanged between str and float and int dtypes '"
      ]
     },
     "execution_count": 24,
     "metadata": {},
     "output_type": "execute_result"
    }
   ],
   "source": [
    "'''there are no functions given here to choose from. Seems QS is incomplete.\n",
    "\n",
    "My best effort answer :: Alphanumeric are toughest to crack since we cannot typecast them to int or float. Only numbers can be interchanged between str and float and int dtypes '''"
   ]
  },
  {
   "cell_type": "markdown",
   "metadata": {},
   "source": [
    "### 10. What is the error caused by this expression? What would you do about it?\n",
    "'I have eaten ' + 99 + ' burritos.'"
   ]
  },
  {
   "cell_type": "code",
   "execution_count": 25,
   "metadata": {},
   "outputs": [
    {
     "data": {
      "text/plain": [
       "'cannot add str and int and str .. need to typecast 99 to str before concatenation'"
      ]
     },
     "execution_count": 25,
     "metadata": {},
     "output_type": "execute_result"
    }
   ],
   "source": [
    "'''cannot add str and int and str .. need to typecast 99 to str before concatenation'''"
   ]
  },
  {
   "cell_type": "code",
   "execution_count": 26,
   "metadata": {
    "scrolled": true
   },
   "outputs": [
    {
     "data": {
      "text/plain": [
       "'THANKS AND REGARDS, Arunava'"
      ]
     },
     "execution_count": 26,
     "metadata": {},
     "output_type": "execute_result"
    }
   ],
   "source": [
    "'THANKS AND REGARDS, Arunava'"
   ]
  },
  {
   "cell_type": "code",
   "execution_count": null,
   "metadata": {},
   "outputs": [],
   "source": []
  },
  {
   "cell_type": "code",
   "execution_count": null,
   "metadata": {},
   "outputs": [],
   "source": []
  },
  {
   "cell_type": "code",
   "execution_count": null,
   "metadata": {},
   "outputs": [],
   "source": []
  },
  {
   "cell_type": "code",
   "execution_count": null,
   "metadata": {},
   "outputs": [],
   "source": []
  }
 ],
 "metadata": {
  "kernelspec": {
   "display_name": "Python 3",
   "language": "python",
   "name": "python3"
  },
  "language_info": {
   "codemirror_mode": {
    "name": "ipython",
    "version": 3
   },
   "file_extension": ".py",
   "mimetype": "text/x-python",
   "name": "python",
   "nbconvert_exporter": "python",
   "pygments_lexer": "ipython3",
   "version": "3.8.3"
  }
 },
 "nbformat": 4,
 "nbformat_minor": 4
}
