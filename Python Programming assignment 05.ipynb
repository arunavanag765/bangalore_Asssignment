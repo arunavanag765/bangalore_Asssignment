{
 "cells": [
  {
   "cell_type": "markdown",
   "metadata": {},
   "source": [
    "1.\tWrite a Python Program to Find LCM?"
   ]
  },
  {
   "cell_type": "code",
   "execution_count": 1,
   "metadata": {},
   "outputs": [
    {
     "name": "stdout",
     "output_type": "stream",
     "text": [
      "enter the numbers --->   1 2 5 4\n",
      "\n",
      "\n",
      "\n",
      "\n",
      " hcf =  1  &&&& lcm =  20.0\n"
     ]
    }
   ],
   "source": [
    "def funchcf(a,b):\n",
    "    temp = min(a,b)\n",
    "    for i in range(temp,0,-1):\n",
    "        if (a%i ==0) and (b%i ==0):\n",
    "            #print('indide def',i)\n",
    "            return i\n",
    "        \n",
    "def funclcm(a,b):\n",
    "    a,b= int(a),int(b)\n",
    "    return ((a*b)/(funchcf(a,b)))\n",
    "    \n",
    "\n",
    "    \n",
    "pot = input('enter the numbers --->  ').split()\n",
    "maxi,mult,mini = 1,1,99999\n",
    "for i in range(len(pot)):\n",
    "    pot[i] = int(pot[i])\n",
    "    mult *= pot[i]\n",
    "    if pot[i] > maxi:\n",
    "        maxi = pot[i]\n",
    "    if pot[i] < mini:\n",
    "        mini = pot[i]\n",
    "\n",
    "\n",
    "hcf,lcm = maxi,maxi\n",
    "#print(hcf)\n",
    "    \n",
    "for hunt in pot:\n",
    "    #print(lcm,'^^',hunt,\"^^\",hcf)\n",
    "    hcf =funchcf(hcf,hunt)\n",
    "    lcm = funclcm(lcm,hunt)\n",
    "    #print(hcf,'----------------',lcm)\n",
    "\n",
    "\n",
    "print('\\n\\n\\n\\n hcf = ',hcf,' &&&& lcm = ',lcm)"
   ]
  },
  {
   "cell_type": "code",
   "execution_count": 2,
   "metadata": {},
   "outputs": [
    {
     "name": "stdout",
     "output_type": "stream",
     "text": [
      "enter the numbers --->  99 88 77 66 55 44\n",
      "\n",
      "\n",
      "\n",
      "\n",
      " hcf =  11  &&&& lcm =  27720.0\n"
     ]
    }
   ],
   "source": [
    "def func_hcf(a,b):\n",
    "    temp = min(a,b)\n",
    "    for i in range(temp,0,-1):\n",
    "        if (a%i ==0) and (b%i ==0):\n",
    "            #print('indide def',i)\n",
    "            return i\n",
    "        \n",
    "def func_lcm(a,b):\n",
    "    a,b= int(a),int(b)\n",
    "    c = func_hcf(a,b)\n",
    "    return ((a*b)/c),c\n",
    "    \n",
    "\n",
    "\n",
    "\n",
    "\n",
    "pot = input('enter the numbers --->  ').split()\n",
    "maxi =1\n",
    "\n",
    "for i in range(len(pot)):\n",
    "    pot[i] = int(pot[i])\n",
    "    if pot[i] > maxi:\n",
    "        maxi = pot[i]\n",
    "\n",
    "min_hcf,lcm = maxi,maxi\n",
    "    \n",
    "for pointer in pot:\n",
    "    lcm,hcf = func_lcm(lcm,pointer)\n",
    "    if hcf <= min_hcf:\n",
    "        min_hcf = hcf\n",
    "\n",
    "\n",
    "print('\\n\\n\\n\\n hcf = ',min_hcf,' &&&& lcm = ',lcm)"
   ]
  },
  {
   "cell_type": "markdown",
   "metadata": {},
   "source": [
    "2.\tWrite a Python Program to Find HCF?"
   ]
  },
  {
   "cell_type": "markdown",
   "metadata": {},
   "source": [
    "-------- same  as above"
   ]
  },
  {
   "cell_type": "markdown",
   "metadata": {},
   "source": [
    "3.\tWrite a Python Program to Convert Decimal to Binary, Octal and Hexadecimal?"
   ]
  },
  {
   "cell_type": "code",
   "execution_count": 3,
   "metadata": {},
   "outputs": [
    {
     "name": "stdout",
     "output_type": "stream",
     "text": [
      "enter num  65846\n",
      "bin = 10000000100110110 \t oct = 200466 \t hex = 10136 \t ascii = 200466\n"
     ]
    }
   ],
   "source": [
    "lit = int(input('enter num  '))\n",
    "print ('bin = {} \\t oct = {} \\t hex = {} \\t ascii = {}'.format((bin(lit)[2:]) ,(oct(lit)[2:]) , (hex(lit)[2:]), (oct(lit)[2:])  ))  \n",
    "# [2:] helps to remove the binary,octal and hex prefix before the respective STRING ouput\n"
   ]
  },
  {
   "cell_type": "markdown",
   "metadata": {},
   "source": [
    "4.\tWrite a Python Program To Find ASCII value of a character?"
   ]
  },
  {
   "cell_type": "markdown",
   "metadata": {},
   "source": [
    "-- above"
   ]
  },
  {
   "cell_type": "markdown",
   "metadata": {},
   "source": [
    "5.\tWrite a Python Program to Make a Simple Calculator with 4 basic mathematical operations?"
   ]
  },
  {
   "cell_type": "code",
   "execution_count": 6,
   "metadata": {},
   "outputs": [
    {
     "name": "stdout",
     "output_type": "stream",
     "text": [
      " without any spacebar, PLs enter the numbers and the operator in between    98  / 12\n",
      " without any spacebar, PLs enter the numbers and the operator in between  56/ 14\n",
      " without any spacebar, PLs enter the numbers and the operator in between      75/15\n",
      "Math Operator is  /\n",
      "Answer is =  5.0\n"
     ]
    }
   ],
   "source": [
    "a,seperator = 'l','l'\n",
    "while(a):\n",
    "    hm = input(' without any spacebar, PLs enter the numbers and the operator in between  ').strip()\n",
    "    a=hm.count(' ')\n",
    "\n",
    "for i in hm:\n",
    "    if (i.isalpha() == False) and (i.isdigit() == False):\n",
    "        seperator = i\n",
    "        print('Math Operator is ',seperator)\n",
    "        break\n",
    "hm = hm.split(sep=seperator)\n",
    "hm = [int(i) for i in hm]\n",
    "\n",
    "if seperator == '*':\n",
    "    output = hm[0]*hm[1]\n",
    "elif seperator == '+':\n",
    "    output = hm[0]+hm[1]\n",
    "elif seperator == '-':\n",
    "    output = hm[0]-hm[1]\n",
    "elif seperator == '/':\n",
    "    output = hm[0]/hm[1]\n",
    "else:\n",
    "    print('incorrect inputs')\n",
    "    \n",
    "print('Answer is = ',output)\n",
    "##operation(hm,)\n",
    "        "
   ]
  },
  {
   "cell_type": "code",
   "execution_count": null,
   "metadata": {},
   "outputs": [],
   "source": []
  }
 ],
 "metadata": {
  "kernelspec": {
   "display_name": "Python 3",
   "language": "python",
   "name": "python3"
  },
  "language_info": {
   "codemirror_mode": {
    "name": "ipython",
    "version": 3
   },
   "file_extension": ".py",
   "mimetype": "text/x-python",
   "name": "python",
   "nbconvert_exporter": "python",
   "pygments_lexer": "ipython3",
   "version": "3.8.3"
  }
 },
 "nbformat": 4,
 "nbformat_minor": 4
}
