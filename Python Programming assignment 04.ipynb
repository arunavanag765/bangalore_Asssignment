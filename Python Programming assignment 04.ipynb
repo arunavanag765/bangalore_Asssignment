{
 "cells": [
  {
   "cell_type": "code",
   "execution_count": null,
   "metadata": {},
   "outputs": [],
   "source": [
    "1.\tWrite a Python Program to Find the Factorial of a Number?"
   ]
  },
  {
   "cell_type": "code",
   "execution_count": 5,
   "metadata": {},
   "outputs": [
    {
     "name": "stdout",
     "output_type": "stream",
     "text": [
      "enter the nuber --->  4\n",
      "The factorial is 24\n"
     ]
    }
   ],
   "source": [
    "def facto(number=1):\n",
    "    if number == 1:\n",
    "        return 1\n",
    "    else:\n",
    "        return number*facto(number-1)\n",
    "    \n",
    "print('The factorial is {}'.format(facto(int(input(\"enter the nuber --->  \")))))\n"
   ]
  },
  {
   "cell_type": "code",
   "execution_count": null,
   "metadata": {},
   "outputs": [],
   "source": [
    "2.\tWrite a Python Program to Display the multiplication Table?"
   ]
  },
  {
   "cell_type": "code",
   "execution_count": 20,
   "metadata": {},
   "outputs": [
    {
     "name": "stdout",
     "output_type": "stream",
     "text": [
      "enter the num65\n",
      "65 x 1 = 65\t65 x 2 = 130\t65 x 3 = 195\t65 x 4 = 260\t65 x 5 = 325\t65 x 6 = 390\t65 x 7 = 455\t65 x 8 = 520\t65 x 9 = 585\t"
     ]
    }
   ],
   "source": [
    "num = int(input('enter the num'))\n",
    "for i in range(1,10 ):\n",
    "       print(num, 'x', i, '=', num*i,end=\"\\t\")"
   ]
  },
  {
   "cell_type": "markdown",
   "metadata": {},
   "source": [
    "## 3.\tWrite a Python Program to Print the Fibonacci sequence?"
   ]
  },
  {
   "cell_type": "code",
   "execution_count": 86,
   "metadata": {},
   "outputs": [
    {
     "name": "stdout",
     "output_type": "stream",
     "text": [
      "number of elements == 40\n",
      "[0, 1, 1, 2, 3, 5, 8, 13, 21, 34, 55, 89, 144, 233, 377, 610, 987, 1597, 2584, 4181, 6765, 10946, 17711, 28657, 46368, 75025, 121393, 196418, 317811, 514229, 832040, 1346269, 2178309, 3524578, 5702887, 9227465, 14930352, 24157817, 39088169, 63245986]\n",
      "\n",
      "\n",
      " elapsed time ===  191546875000\n"
     ]
    }
   ],
   "source": [
    "#num = int(input('enter the num'))\n",
    "\n",
    "def fibo(i):\n",
    "    if i == 1:\n",
    "        temp= 0\n",
    "    elif i==2:\n",
    "        temp=1\n",
    "    else:\n",
    "        temp = fibo(i-1)+ fibo(i-2)  #$f3+f2  f2+f1+f2\n",
    "    \n",
    "    return temp\n",
    "    \n",
    "import time\n",
    "start = time.process_time_ns()  \n",
    "\n",
    "\n",
    "outside_list=[]          \n",
    "\n",
    "for i in range(1,int(input('number of elements == '))+1):\n",
    "    outside_list.append(fibo(i))\n",
    "\n",
    "print(outside_list)\n",
    "print(\"\\n\\n elapsed time === \",time.process_time_ns()-start)"
   ]
  },
  {
   "cell_type": "code",
   "execution_count": 87,
   "metadata": {},
   "outputs": [
    {
     "name": "stdout",
     "output_type": "stream",
     "text": [
      "number of elements == 40\n",
      "0\t1\t1\t2\t3\t5\t8\t13\t21\t34\t55\t89\t144\t233\t377\t610\t987\t1597\t2584\t4181\t6765\t10946\t17711\t28657\t46368\t75025\t121393\t196418\t317811\t514229\t832040\t1346269\t2178309\t3524578\t5702887\t9227465\t14930352\t24157817\t39088169\t63245986\t\n",
      "\n",
      " elapsed time ===  15625000\n"
     ]
    }
   ],
   "source": [
    "import time\n",
    "start = time.process_time_ns()  \n",
    "\n",
    "rounds = int(input('number of elements == '))\n",
    "a,b,i = 0,1,1\n",
    "\n",
    "while i <= rounds :\n",
    "    if i == 1:\n",
    "        print(a,end='\\t')\n",
    "    elif i==2:\n",
    "        print(b,end='\\t')\n",
    "    else:\n",
    "        a,b = b,a+b ## this is possible since calculations are done before assignment; taking adavantage of cacche memory maybe\n",
    "        print(b,end='\\t')\n",
    "    i +=1\n",
    "\n",
    "print(\"\\n\\n elapsed time === \",time.process_time_ns()-start)"
   ]
  },
  {
   "cell_type": "code",
   "execution_count": null,
   "metadata": {},
   "outputs": [],
   "source": [
    "4.\tWrite a Python Program to Check Armstrong Number?"
   ]
  },
  {
   "cell_type": "code",
   "execution_count": 101,
   "metadata": {},
   "outputs": [
    {
     "name": "stdout",
     "output_type": "stream",
     "text": [
      "enter number ---> 371\n",
      "success, Armstrong Number\n"
     ]
    }
   ],
   "source": [
    "poll = input('enter number ---> ')\n",
    "sum = 0\n",
    "for love in poll:\n",
    "    sum += int(love)**len(poll)\n",
    "if sum == int(poll):\n",
    "    print('success, Armstrong Number')\n",
    "else:\n",
    "    print('not an armstrong number')"
   ]
  },
  {
   "cell_type": "code",
   "execution_count": null,
   "metadata": {},
   "outputs": [],
   "source": [
    "5.\tWrite a Python Program to Find Armstrong Number in an Interval?"
   ]
  },
  {
   "cell_type": "code",
   "execution_count": 106,
   "metadata": {},
   "outputs": [
    {
     "name": "stdout",
     "output_type": "stream",
     "text": [
      "enter the start and end points seperated by space -->  78 9999\n",
      "153 success, Armstrong Number\n",
      "370 success, Armstrong Number\n",
      "371 success, Armstrong Number\n",
      "407 success, Armstrong Number\n",
      "1634 success, Armstrong Number\n",
      "8208 success, Armstrong Number\n",
      "9474 success, Armstrong Number\n"
     ]
    }
   ],
   "source": [
    "x,y = input('enter the start and end points seperated by space -->  ').split()\n",
    "x,y = int(x), int(y)\n",
    "\n",
    "for flow in range(x,y):\n",
    "    poll = str(flow)\n",
    "    sum = 0\n",
    "    for love in poll:\n",
    "        sum += int(love)**len(poll)\n",
    "    if sum == int(poll):\n",
    "        print(poll,'success, Armstrong Number')\n",
    "    else:\n",
    "        pass"
   ]
  },
  {
   "cell_type": "code",
   "execution_count": null,
   "metadata": {},
   "outputs": [],
   "source": [
    "6.\tWrite a Python Program to Find the Sum of Natural Numbers?"
   ]
  },
  {
   "cell_type": "code",
   "execution_count": 110,
   "metadata": {},
   "outputs": [
    {
     "name": "stdout",
     "output_type": "stream",
     "text": [
      "enter the last natural number -->12\n",
      "the sum is  78.0\n"
     ]
    }
   ],
   "source": [
    "n = int(input('enter the last natural number -->'))\n",
    "print('the sum is ',n*(n+1)/2)"
   ]
  },
  {
   "cell_type": "code",
   "execution_count": null,
   "metadata": {},
   "outputs": [],
   "source": [
    "------regard Arunava"
   ]
  }
 ],
 "metadata": {
  "kernelspec": {
   "display_name": "Python 3",
   "language": "python",
   "name": "python3"
  },
  "language_info": {
   "codemirror_mode": {
    "name": "ipython",
    "version": 3
   },
   "file_extension": ".py",
   "mimetype": "text/x-python",
   "name": "python",
   "nbconvert_exporter": "python",
   "pygments_lexer": "ipython3",
   "version": "3.8.3"
  }
 },
 "nbformat": 4,
 "nbformat_minor": 4
}
