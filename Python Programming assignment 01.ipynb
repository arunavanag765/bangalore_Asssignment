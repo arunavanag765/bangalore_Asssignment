{
 "cells": [
  {
   "cell_type": "code",
   "execution_count": null,
   "metadata": {},
   "outputs": [],
   "source": [
    "1.\tWrite a Python program to print \"Hello Python\"?"
   ]
  },
  {
   "cell_type": "code",
   "execution_count": 2,
   "metadata": {},
   "outputs": [
    {
     "name": "stdout",
     "output_type": "stream",
     "text": [
      "\"Hello Python\"?\n"
     ]
    }
   ],
   "source": [
    "print(\"\\\"Hello Python\\\"?\")"
   ]
  },
  {
   "cell_type": "code",
   "execution_count": null,
   "metadata": {},
   "outputs": [],
   "source": [
    "2.\tWrite a Python program to do arithmetical operations addition and division.?"
   ]
  },
  {
   "cell_type": "code",
   "execution_count": 15,
   "metadata": {},
   "outputs": [
    {
     "name": "stdout",
     "output_type": "stream",
     "text": [
      "enter two numbers --> 23 45\n",
      "Sum is 68 and Div is 0.5111111111111111\n"
     ]
    }
   ],
   "source": [
    "c = ((input('enter two numbers --> ').split()))\n",
    "a,b = int(c[0]),int(c[1])\n",
    "print(\"Sum is {} and Div is {}\".format(a+b,(a/b)))"
   ]
  },
  {
   "cell_type": "code",
   "execution_count": null,
   "metadata": {},
   "outputs": [],
   "source": [
    "3.\tWrite a Python program to find the area of a triangle?"
   ]
  },
  {
   "cell_type": "code",
   "execution_count": 18,
   "metadata": {},
   "outputs": [
    {
     "name": "stdout",
     "output_type": "stream",
     "text": [
      "enter two sides --> 1 1\n",
      "Area is 0.5 \n"
     ]
    }
   ],
   "source": [
    "c = ((input('enter two sides --> ').split()))\n",
    "a,b = int(c[0]),int(c[1])\n",
    "print(\"Area is {} \".format(.5*a*b))"
   ]
  },
  {
   "cell_type": "code",
   "execution_count": null,
   "metadata": {},
   "outputs": [],
   "source": [
    "4.\tWrite a Python program to swap two variables?"
   ]
  },
  {
   "cell_type": "code",
   "execution_count": 19,
   "metadata": {},
   "outputs": [
    {
     "name": "stdout",
     "output_type": "stream",
     "text": [
      "enter two sides --> 78 5\n",
      "swapped -->  a is 5 and b is 78\n"
     ]
    }
   ],
   "source": [
    "c = ((input('enter two sides --> ').split()))\n",
    "a,b = int(c[0]),int(c[1])\n",
    "\n",
    "a,b = b,a \n",
    "print(\"swapped -->  a is {} and b is {}\".format(a,b))"
   ]
  },
  {
   "cell_type": "code",
   "execution_count": null,
   "metadata": {},
   "outputs": [],
   "source": [
    "5.\tWrite a Python program to generate a random number?"
   ]
  },
  {
   "cell_type": "code",
   "execution_count": 14,
   "metadata": {},
   "outputs": [
    {
     "name": "stdout",
     "output_type": "stream",
     "text": [
      "a random number ---> 66.56415639633417 and 59 \n"
     ]
    }
   ],
   "source": [
    "import random\n",
    "print('a random number ---> {} and {} '.format(random.random()*100,random.randint(34,65)))"
   ]
  },
  {
   "cell_type": "code",
   "execution_count": null,
   "metadata": {},
   "outputs": [],
   "source": [
    "-----thankas Arunava"
   ]
  }
 ],
 "metadata": {
  "kernelspec": {
   "display_name": "Python 3",
   "language": "python",
   "name": "python3"
  },
  "language_info": {
   "codemirror_mode": {
    "name": "ipython",
    "version": 3
   },
   "file_extension": ".py",
   "mimetype": "text/x-python",
   "name": "python",
   "nbconvert_exporter": "python",
   "pygments_lexer": "ipython3",
   "version": "3.8.3"
  }
 },
 "nbformat": 4,
 "nbformat_minor": 4
}
